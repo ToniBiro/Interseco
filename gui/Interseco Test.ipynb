{
 "cells": [
  {
   "cell_type": "markdown",
   "metadata": {},
   "source": [
    "# Interseco + Jupyter Notebook"
   ]
  },
  {
   "cell_type": "markdown",
   "metadata": {},
   "source": [
    "## Imports"
   ]
  },
  {
   "cell_type": "code",
   "execution_count": 13,
   "metadata": {},
   "outputs": [],
   "source": [
    "import matplotlib.pyplot as plt\n",
    "import sys\n",
    "sys.path.append(\"../backend/\")\n",
    "from copy import deepcopy\n",
    "from helpers import *\n",
    "from plot import draw, drawPolygonLines\n",
    "from prgc import Vector2D, DCEL, intersect_polygons"
   ]
  },
  {
   "cell_type": "markdown",
   "metadata": {},
   "source": [
    "## Drawing example"
   ]
  },
  {
   "cell_type": "code",
   "execution_count": 14,
   "metadata": {},
   "outputs": [],
   "source": [
    "firstFig  = [(0, 0), (3,0), (3,3), (0,3), (0,0), (1,1), (1,2), (2,2), (2,1), (1,1)]\n",
    "secondFig = [(-1,1.2), (-1,1.8), (4,1.8), (4,1.2)]\n",
    "interFig  = [[(0,1.2), (0,1.8), (1,1.8), (1,1.2)], [(2,1.2), (2,1.8), (3,1.8), (3,1.2)], [(0,1), (0,2)], [(1,0), (3,0)], [(0,0)]]"
   ]
  },
  {
   "cell_type": "code",
   "execution_count": 25,
   "metadata": {
    "scrolled": true
   },
   "outputs": [
    {
     "data": {
      "image/png": "[encoded data removed]",
      "text/plain": [
       "<Figure size 432x288 with 4 Axes>"
      ]
     },
     "metadata": {
      "needs_background": "light"
     },
     "output_type": "display_data"
    }
   ],
   "source": [
    "draw(firstFig, secondFig, interFig)"
   ]
  },
  {
   "cell_type": "markdown",
   "metadata": {},
   "source": [
    "## Intersection example"
   ]
  },
  {
   "cell_type": "code",
   "execution_count": 33,
   "metadata": {
    "scrolled": true
   },
   "outputs": [
    {
     "data": {
      "text/plain": [
       "[Vertex(0.750, 1.000),\n",
       " Vertex(0.750, 0.500),\n",
       " Vertex(2.000, 0.500),\n",
       " Vertex(2.000, 1.000),\n",
       " Vertex(1.000, 0.000),\n",
       " Vertex(1.000, 3.000),\n",
       " Vertex(0.000, 3.000),\n",
       " Vertex(0.000, 0.000)]"
      ]
     },
     "execution_count": 33,
     "metadata": {},
     "output_type": "execute_result"
    }
   ],
   "source": [
    "dcel, polygon1, polygon2 = load_from_file(\"inputs/two_rectangles.txt\")\n",
    "dcel.vertices"
   ]
  },
  {
   "cell_type": "code",
   "execution_count": 27,
   "metadata": {},
   "outputs": [
    {
     "data": {
      "image/png": "[encoded data removed]",
      "text/plain": [
       "<Figure size 432x288 with 4 Axes>"
      ]
     },
     "metadata": {
      "needs_background": "light"
     },
     "output_type": "display_data"
    }
   ],
   "source": [
    "p1_points = face_to_point_list(polygon1)\n",
    "p2_points = face_to_point_list(polygon2)\n",
    "\n",
    "result = intersect_polygons(dcel, polygon1, polygon2)\n",
    "result_points = [face_to_point_list(poly) for poly in result]\n",
    "\n",
    "draw(p1_points, p2_points, result_points)"
   ]
  },
  {
   "cell_type": "code",
   "execution_count": null,
   "metadata": {},
   "outputs": [],
   "source": []
  }
 ],
 "metadata": {
  "kernelspec": {
   "display_name": "Python 3",
   "language": "python",
   "name": "python3"
  },
  "language_info": {
   "codemirror_mode": {
    "name": "ipython",
    "version": 3
   },
   "file_extension": ".py",
   "mimetype": "text/x-python",
   "name": "python",
   "nbconvert_exporter": "python",
   "pygments_lexer": "ipython3",
   "version": "3.8.3"
  }
 },
 "nbformat": 4,
 "nbformat_minor": 2
}
